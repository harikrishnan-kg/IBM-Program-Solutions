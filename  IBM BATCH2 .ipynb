{
 "cells": [
  {
   "cell_type": "code",
   "execution_count": 1,
   "id": "0446e279-357c-4a65-8a52-6e4405940cfc",
   "metadata": {},
   "outputs": [],
   "source": [
    "##PythonBAsics"
   ]
  },
  {
   "cell_type": "code",
   "execution_count": 2,
   "id": "2bf6f54d-224a-4ec8-a847-cc55cd8b93b6",
   "metadata": {},
   "outputs": [
    {
     "name": "stdout",
     "output_type": "stream",
     "text": [
      "HELLO WORLD\n"
     ]
    }
   ],
   "source": [
    "print('HELLO WORLD');"
   ]
  },
  {
   "cell_type": "code",
   "execution_count": 8,
   "id": "e2063c33-caf1-46c2-86e7-2288bd368c17",
   "metadata": {},
   "outputs": [
    {
     "name": "stdout",
     "output_type": "stream",
     "text": [
      "30 IBM 30.01 30.00000000009287\n"
     ]
    }
   ],
   "source": [
    "a=30;\n",
    "b='IBM';\n",
    "c=30.010\n",
    "d=30.000000000092872635676787878553;\n",
    "# print(type(d));\n",
    "type(a) ;\n",
    "# print(type(b));\n",
    "print(a,b,c,d)"
   ]
  },
  {
   "cell_type": "code",
   "execution_count": 9,
   "id": "e4ffec7f-c3c7-4838-b60c-96ed74cc3b36",
   "metadata": {},
   "outputs": [
    {
     "data": {
      "text/plain": [
       "int"
      ]
     },
     "execution_count": 9,
     "metadata": {},
     "output_type": "execute_result"
    }
   ],
   "source": [
    "type(a)"
   ]
  },
  {
   "cell_type": "code",
   "execution_count": 12,
   "id": "649d80f1-2264-4b79-86ca-d651e372758b",
   "metadata": {},
   "outputs": [
    {
     "name": "stdout",
     "output_type": "stream",
     "text": [
      "30\n",
      "30\n",
      "30\n"
     ]
    }
   ],
   "source": [
    "a=b=c=30\n",
    "print(a)\n",
    "print(b)\n",
    "print(c)"
   ]
  },
  {
   "cell_type": "code",
   "execution_count": 13,
   "id": "3d492ad2-6fb4-444f-89fe-005774e47472",
   "metadata": {},
   "outputs": [
    {
     "name": "stdout",
     "output_type": "stream",
     "text": [
      "abc\n"
     ]
    },
    {
     "data": {
      "text/plain": [
       "'abc'"
      ]
     },
     "execution_count": 13,
     "metadata": {},
     "output_type": "execute_result"
    }
   ],
   "source": [
    "a='abc'\n",
    "print(a)\n",
    "a"
   ]
  },
  {
   "cell_type": "code",
   "execution_count": 15,
   "id": "9bbe689b-34c0-4fe0-a9d3-20a5c4a18f54",
   "metadata": {},
   "outputs": [
    {
     "data": {
      "text/plain": [
       "'IBM'"
      ]
     },
     "execution_count": 15,
     "metadata": {},
     "output_type": "execute_result"
    }
   ],
   "source": [
    "a,b,c=10,20.01,'IBM';\n",
    "c"
   ]
  },
  {
   "cell_type": "code",
   "execution_count": 16,
   "id": "b2b068fa-c0cc-4dcc-a180-4c7a003ff100",
   "metadata": {},
   "outputs": [
    {
     "name": "stdout",
     "output_type": "stream",
     "text": [
      "200.10000000000002\n"
     ]
    }
   ],
   "source": [
    "print(a*b)"
   ]
  },
  {
   "cell_type": "code",
   "execution_count": 17,
   "id": "61825a8a-fff8-48f9-8b6f-7120fda7267b",
   "metadata": {},
   "outputs": [],
   "source": [
    "str='aabcdd'"
   ]
  },
  {
   "cell_type": "code",
   "execution_count": 18,
   "id": "9a14d4aa-a1d7-41f6-87ee-e3898a51d5d7",
   "metadata": {},
   "outputs": [
    {
     "data": {
      "text/plain": [
       "'aabcdd'"
      ]
     },
     "execution_count": 18,
     "metadata": {},
     "output_type": "execute_result"
    }
   ],
   "source": [
    "str"
   ]
  },
  {
   "cell_type": "code",
   "execution_count": 19,
   "id": "7474cd7c-8cf5-4e8b-b59c-f1d3bda81f06",
   "metadata": {},
   "outputs": [
    {
     "data": {
      "text/plain": [
       "'qsqhgshqwhq\\nasdkashdmahsd\\nadhajshda\\n'"
      ]
     },
     "execution_count": 19,
     "metadata": {},
     "output_type": "execute_result"
    }
   ],
   "source": [
    "str='''qsqhgshqwhq\n",
    "asdkashdmahsd\n",
    "adhajshda\n",
    "'''\n",
    "str\n"
   ]
  },
  {
   "cell_type": "code",
   "execution_count": 20,
   "id": "b4c420b4-17a4-426b-8764-d732f69e26fa",
   "metadata": {},
   "outputs": [
    {
     "name": "stdout",
     "output_type": "stream",
     "text": [
      "qsqhgshqwhq\n",
      "asdkashdmahsd\n",
      "adhajshda\n",
      "\n"
     ]
    }
   ],
   "source": [
    "print(str)"
   ]
  },
  {
   "cell_type": "code",
   "execution_count": 21,
   "id": "61d01ae7-5c33-4f0f-a232-2092af2815a8",
   "metadata": {},
   "outputs": [
    {
     "data": {
      "text/plain": [
       "'q'"
      ]
     },
     "execution_count": 21,
     "metadata": {},
     "output_type": "execute_result"
    }
   ],
   "source": [
    "str[0]"
   ]
  },
  {
   "cell_type": "code",
   "execution_count": 23,
   "id": "16df59d8-444c-405e-80f9-0c7fbea64130",
   "metadata": {},
   "outputs": [
    {
     "name": "stdout",
     "output_type": "stream",
     "text": [
      "First, if you open System Settings, then go to Text Entry,\n",
      "then click the little keyboard\n",
      "icon on the left side of the screen,\n",
      "you’ll see a window that looks something like this: \n",
      "Firs\n"
     ]
    }
   ],
   "source": [
    "str='''First, if you open System Settings, then go to Text Entry,\n",
    "then click the little keyboard\n",
    "icon on the left side of the screen,\n",
    "you’ll see a window that looks something like this: '''\n",
    "\n",
    "print(str)\n",
    "print(str[:4])"
   ]
  },
  {
   "cell_type": "code",
   "execution_count": 24,
   "id": "02c7a485-7baa-447c-987c-b68f9700be09",
   "metadata": {},
   "outputs": [
    {
     "data": {
      "text/plain": [
       "179"
      ]
     },
     "execution_count": 24,
     "metadata": {},
     "output_type": "execute_result"
    }
   ],
   "source": [
    "len(str)"
   ]
  },
  {
   "cell_type": "code",
   "execution_count": 25,
   "id": "16a8de61-db9c-40e1-ac11-aaf9bbb9f84d",
   "metadata": {},
   "outputs": [
    {
     "data": {
      "text/plain": [
       "'ystem Settings, then'"
      ]
     },
     "execution_count": 25,
     "metadata": {},
     "output_type": "execute_result"
    }
   ],
   "source": [
    "str[20:40]"
   ]
  },
  {
   "cell_type": "code",
   "execution_count": 26,
   "id": "f96b7f49-9abc-48c7-b6b8-c96b19876194",
   "metadata": {},
   "outputs": [
    {
     "data": {
      "text/plain": [
       "'IBM BATCH'"
      ]
     },
     "execution_count": 26,
     "metadata": {},
     "output_type": "execute_result"
    }
   ],
   "source": [
    "str='IBM BATCH'\n",
    "str"
   ]
  },
  {
   "cell_type": "code",
   "execution_count": 29,
   "id": "ad1bfb96-5caf-475a-a659-5ddeb1622d8b",
   "metadata": {},
   "outputs": [
    {
     "data": {
      "text/plain": [
       "'BATCH'"
      ]
     },
     "execution_count": 29,
     "metadata": {},
     "output_type": "execute_result"
    }
   ],
   "source": [
    "str[-5:]\n"
   ]
  },
  {
   "cell_type": "code",
   "execution_count": 30,
   "id": "bf9ee123-e201-4623-9bd7-c31156d7335a",
   "metadata": {},
   "outputs": [
    {
     "data": {
      "text/plain": [
       "'IBM BATCH'"
      ]
     },
     "execution_count": 30,
     "metadata": {},
     "output_type": "execute_result"
    }
   ],
   "source": [
    "str.upper()"
   ]
  },
  {
   "cell_type": "code",
   "execution_count": 31,
   "id": "884fcb44-ed07-4763-a650-c235dab47cef",
   "metadata": {},
   "outputs": [
    {
     "data": {
      "text/plain": [
       "'ibm batch'"
      ]
     },
     "execution_count": 31,
     "metadata": {},
     "output_type": "execute_result"
    }
   ],
   "source": [
    "str.lower()"
   ]
  },
  {
   "cell_type": "code",
   "execution_count": 32,
   "id": "1941e018-28e0-4ab9-8f3c-9dc671eeb69a",
   "metadata": {},
   "outputs": [
    {
     "data": {
      "text/plain": [
       "'batch'"
      ]
     },
     "execution_count": 32,
     "metadata": {},
     "output_type": "execute_result"
    }
   ],
   "source": [
    "str[-5:].lower()"
   ]
  },
  {
   "cell_type": "raw",
   "id": "6701a5de-8b8c-4ed9-82a7-4ee4703ead43",
   "metadata": {},
   "source": [
    "str.remove('H')"
   ]
  },
  {
   "cell_type": "code",
   "execution_count": 34,
   "id": "c0d6a1ed-3d3a-4b3f-aae1-6fe7a08f2925",
   "metadata": {},
   "outputs": [
    {
     "data": {
      "text/plain": [
       "'IBM BATCH'"
      ]
     },
     "execution_count": 34,
     "metadata": {},
     "output_type": "execute_result"
    }
   ],
   "source": [
    "str ='   IBM BATCH'    "
   ]
  },
  {
   "cell_type": "code",
   "execution_count": 36,
   "id": "56cc0e2a-a1ec-4685-b3bc-1c2e32836486",
   "metadata": {},
   "outputs": [
    {
     "name": "stdout",
     "output_type": "stream",
     "text": [
      "IBM BATCH\n"
     ]
    }
   ],
   "source": [
    "print(str.strip())"
   ]
  },
  {
   "cell_type": "code",
   "execution_count": 40,
   "id": "80cd0018-0e74-4a3c-8579-399cc43f3e28",
   "metadata": {},
   "outputs": [
    {
     "name": "stdout",
     "output_type": "stream",
     "text": [
      "IBM1------------><--------IBM2\n"
     ]
    }
   ],
   "source": [
    "str1='IBM1------------><--------'\n",
    "str2='IBM2'\n",
    "print(str1+str2)"
   ]
  },
  {
   "cell_type": "code",
   "execution_count": 41,
   "id": "0e2eba4a-4971-416e-9415-a1a386351ce2",
   "metadata": {},
   "outputs": [
    {
     "data": {
      "text/plain": [
       "'IBM BATCH 2000'"
      ]
     },
     "execution_count": 41,
     "metadata": {},
     "output_type": "execute_result"
    }
   ],
   "source": [
    "n=2000\n",
    "str1='IBM BATCH {}'\n",
    "str1.format(n)"
   ]
  },
  {
   "cell_type": "code",
   "execution_count": 44,
   "id": "35c73df5-eb3d-4a86-9e3c-f49b2d7c1eb7",
   "metadata": {},
   "outputs": [
    {
     "data": {
      "text/plain": [
       "'My mark is 20'"
      ]
     },
     "execution_count": 44,
     "metadata": {},
     "output_type": "execute_result"
    }
   ],
   "source": [
    "a='My {1} is {0}'\n",
    "a.format(20,'mark')"
   ]
  },
  {
   "cell_type": "code",
   "execution_count": 45,
   "id": "50318e5b-f47f-40d0-b835-8e7ff1059834",
   "metadata": {},
   "outputs": [
    {
     "name": "stdout",
     "output_type": "stream",
     "text": [
      "no is 30\n"
     ]
    }
   ],
   "source": [
    "n=30\n",
    "if n==30:\n",
    "    print('no is 30');\n",
    "elif n==40:\n",
    "    print('no is 40');\n",
    "elif n==50:\n",
    "    print('no is 50');\n",
    "else:\n",
    "    print('no not 30,40,50');\n"
   ]
  },
  {
   "cell_type": "code",
   "execution_count": 47,
   "id": "de613d0c-7df3-4103-83da-9c3546f31178",
   "metadata": {},
   "outputs": [
    {
     "name": "stdout",
     "output_type": "stream",
     "text": [
      "1\n",
      "16\n",
      "49\n",
      "100\n",
      "169\n",
      "256\n",
      "361\n"
     ]
    }
   ],
   "source": [
    "for i in range(1,20,3):\n",
    "    print(i*i)"
   ]
  },
  {
   "cell_type": "code",
   "execution_count": 50,
   "id": "b2c1c6bf-5204-4164-8fab-8637b744a93d",
   "metadata": {},
   "outputs": [
    {
     "name": "stdout",
     "output_type": "stream",
     "text": [
      "IBM INDIA\n",
      "1\n",
      "2\n",
      "3\n",
      "4\n",
      "5\n",
      "6\n"
     ]
    }
   ],
   "source": [
    "s='IBM INDIA'\n",
    "for i in s:\n",
    "    print(i,end='')\n",
    "print()\n",
    "l=[1,2,3,4,5,6]\n",
    "for i in  l:\n",
    "    print(i)\n",
    "    "
   ]
  },
  {
   "cell_type": "code",
   "execution_count": 56,
   "id": "81c4ae6d-8294-41d2-9d94-4738329ffd23",
   "metadata": {},
   "outputs": [],
   "source": [
    "for i in range(20,0,-2):\n",
    "    if i==14:\n",
    "        continue\n",
    "    if i==10:\n",
    "        break\n",
    "    print(i)"
   ]
  },
  {
   "cell_type": "code",
   "execution_count": 59,
   "id": "02a90915-11ba-4c72-a1a0-ff77afad856c",
   "metadata": {},
   "outputs": [
    {
     "name": "stdout",
     "output_type": "stream",
     "text": [
      "EVEN NUMBER\n",
      "ODD NUMBER\n"
     ]
    }
   ],
   "source": [
    "def fun(a):\n",
    "    if a%2!=0:\n",
    "        print('ODD NUMBER');\n",
    "    else:\n",
    "        print('EVEN NUMBER');\n",
    "fun(20)\n",
    "fun(21)\n"
   ]
  },
  {
   "cell_type": "code",
   "execution_count": 64,
   "id": "1dbc5f0f-ec82-4c7b-9a76-57fcd0116d00",
   "metadata": {},
   "outputs": [
    {
     "name": "stdout",
     "output_type": "stream",
     "text": [
      "230\n",
      "170\n",
      "6000\n",
      "6.666666666666667\n",
      "Invalid Input\n",
      "20\n",
      "invalid operand\n"
     ]
    }
   ],
   "source": [
    "def cal(n1,n2,c):\n",
    "    if c=='+':\n",
    "        print(n1+n2)\n",
    "    elif c=='-':\n",
    "        print(n1-n2)\n",
    "    elif c=='*':\n",
    "        print(n1*n2)\n",
    "    elif c=='/':\n",
    "        if n2!=0:\n",
    "            print(n1/n2)\n",
    "        else:\n",
    "            print('Invalid Input')\n",
    "    elif c=='%':\n",
    "        print(n1%n2)\n",
    "    else:\n",
    "        print('invalid operand')\n",
    "\n",
    "        \n",
    "cal(200,30,'+')\n",
    "cal(200,30,'-')\n",
    "cal(200,30,'*')\n",
    "cal(200,30,'/')\n",
    "cal(200,0,'/')\n",
    "cal(200,30,'%')\n",
    "cal(200,30,'d')"
   ]
  },
  {
   "cell_type": "code",
   "execution_count": 67,
   "id": "3703db18-09e9-42ab-be34-8469b11e6cdb",
   "metadata": {},
   "outputs": [
    {
     "data": {
      "text/plain": [
       "list"
      ]
     },
     "execution_count": 67,
     "metadata": {},
     "output_type": "execute_result"
    }
   ],
   "source": [
    "list1=[1,2,3,4,5,6,4.567,'ab','cd','orange']\n",
    "type(list1)"
   ]
  },
  {
   "cell_type": "code",
   "execution_count": 68,
   "id": "658a7299-634d-465d-b2dd-92a13e15f7a0",
   "metadata": {},
   "outputs": [
    {
     "name": "stdout",
     "output_type": "stream",
     "text": [
      "1\n",
      "2\n",
      "3\n",
      "4\n",
      "5\n",
      "6\n",
      "4.567\n",
      "ab\n",
      "cd\n",
      "orange\n"
     ]
    }
   ],
   "source": [
    "for i in list1:\n",
    "    print(i)"
   ]
  },
  {
   "cell_type": "code",
   "execution_count": 69,
   "id": "e5230bf0-168c-4948-b268-c07fed81b257",
   "metadata": {},
   "outputs": [
    {
     "data": {
      "text/plain": [
       "10"
      ]
     },
     "execution_count": 69,
     "metadata": {},
     "output_type": "execute_result"
    }
   ],
   "source": [
    "len(list1)"
   ]
  },
  {
   "cell_type": "code",
   "execution_count": 70,
   "id": "9fe4fc33-09c5-4fe5-801f-e2208b84a15c",
   "metadata": {},
   "outputs": [
    {
     "name": "stdout",
     "output_type": "stream",
     "text": [
      "[3, 4, 5, 6, 4.567, 'ab', 'cd', 'orange']\n"
     ]
    }
   ],
   "source": [
    "print(list1[2:])"
   ]
  },
  {
   "cell_type": "code",
   "execution_count": 71,
   "id": "59b792f8-fe21-4376-a7b8-c8d02c10266a",
   "metadata": {},
   "outputs": [
    {
     "name": "stdout",
     "output_type": "stream",
     "text": [
      "[5, 6, 4.567, 'ab', 'cd', 'orange']\n"
     ]
    }
   ],
   "source": [
    "l2=list1[4:]\n",
    "print(l2)"
   ]
  },
  {
   "cell_type": "code",
   "execution_count": 72,
   "id": "29036a2e-d30c-47e0-ac49-ed504e0d41da",
   "metadata": {},
   "outputs": [
    {
     "name": "stdout",
     "output_type": "stream",
     "text": [
      "Orange in list\n"
     ]
    }
   ],
   "source": [
    "if 'orange' in l2:\n",
    "    print('Orange in list')"
   ]
  },
  {
   "cell_type": "code",
   "execution_count": 78,
   "id": "4b24831d-63e6-4c1b-9fcb-5311e48e743e",
   "metadata": {},
   "outputs": [
    {
     "name": "stdout",
     "output_type": "stream",
     "text": [
      "[5, 6, 'IBM', 'IBM', 4.567, 'ab', 'IBM', 'IBM', 'cd', 'orange']\n"
     ]
    },
    {
     "data": {
      "text/plain": [
       "[5, 6, 'IBM', 'IBM', 'IBM', 4.567, 'ab', 'IBM', 'IBM', 'cd', 'orange']"
      ]
     },
     "execution_count": 78,
     "metadata": {},
     "output_type": "execute_result"
    }
   ],
   "source": [
    "l2.reverse()\n",
    "print(l2)\n",
    "l2.insert(2,'IBM')\n"
   ]
  },
  {
   "cell_type": "code",
   "execution_count": 79,
   "id": "5a6aa6c2-5740-4b3e-8491-c031d4308f0b",
   "metadata": {},
   "outputs": [
    {
     "data": {
      "text/plain": [
       "5"
      ]
     },
     "execution_count": 79,
     "metadata": {},
     "output_type": "execute_result"
    }
   ],
   "source": [
    "l2.count('IBM')"
   ]
  },
  {
   "cell_type": "code",
   "execution_count": 80,
   "id": "1dd7294c-803a-437c-a66a-816f19590922",
   "metadata": {},
   "outputs": [
    {
     "name": "stdout",
     "output_type": "stream",
     "text": [
      "[5, 6, 'IBM', 'IBM', 'IBM', 4.567, 'ab', 'IBM', 'IBM', 'cd', 'orange']\n",
      "[5, 6, 'IBM', 'IBM', 'IBM', 4.567, 'ab', 'IBM', 'IBM', 'cd']\n"
     ]
    }
   ],
   "source": [
    "print(l2)\n",
    "l2.pop()\n",
    "print(l2)"
   ]
  },
  {
   "cell_type": "code",
   "execution_count": 82,
   "id": "2c07c8cb-44c6-4e21-905d-6e7d2616f0a9",
   "metadata": {},
   "outputs": [
    {
     "name": "stdout",
     "output_type": "stream",
     "text": [
      "[5, 6, 'IBM', 'IBM', 'IBM', 4.567, 'ab', 'IBM', 'IBM', 'cd']\n",
      "[5, 6, 'IBM', 'IBM', 'IBM', 4.567, 'ab', 'IBM', 'IBM', 'cd', 56.78, 'PYTHON']\n"
     ]
    }
   ],
   "source": [
    "print(l2)\n",
    "l2.append(56.78)\n",
    "l2.append('PYTHON')\n",
    "print(l2)"
   ]
  },
  {
   "cell_type": "code",
   "execution_count": 83,
   "id": "7792ba27-0404-4cd4-9343-b00ccb24a64d",
   "metadata": {},
   "outputs": [
    {
     "name": "stdout",
     "output_type": "stream",
     "text": [
      "[5, 6, 'IBM', 'IBM', 'IBM', 4.567, 'ab', 'IBM', 'IBM', 'cd', 56.78, 'PYTHON']\n",
      "[5, 6, 'IBM', 'IBM', 'IBM', 4.567, 'ab', 'IBM', 'IBM', 'cd', 56.78, 'PYTHON', 'Hello World', 'TRAINING', 100]\n"
     ]
    }
   ],
   "source": [
    "print(l2)\n",
    "l3=['Hello World','TRAINING',100]\n",
    "l2.extend(l3)\n",
    "print(l2)"
   ]
  },
  {
   "cell_type": "code",
   "execution_count": 86,
   "id": "75bed476-6b62-4186-b733-b335fac5a075",
   "metadata": {},
   "outputs": [
    {
     "name": "stdout",
     "output_type": "stream",
     "text": [
      "3\n",
      "2\n",
      "[5, 6, 4.567, 'ab', 'IBM', 'IBM', 'cd', 56.78, 'PYTHON', 'Hello World', 'TRAINING', 100]\n"
     ]
    }
   ],
   "source": [
    "print(l2.count('IBM'))\n",
    "l2.remove('IBM')\n",
    "print(l2.count('IBM'))\n",
    "print(l2)"
   ]
  },
  {
   "cell_type": "code",
   "execution_count": null,
   "id": "b8af134e-8f6e-4eae-bebe-b69bf84c87d1",
   "metadata": {},
   "outputs": [],
   "source": []
  },
  {
   "cell_type": "code",
   "execution_count": null,
   "id": "431c0577-05e0-4a2a-8787-8793fe0c1a9c",
   "metadata": {},
   "outputs": [],
   "source": []
  },
  {
   "cell_type": "code",
   "execution_count": null,
   "id": "30ea380b-d45b-4687-a502-23a150f9f766",
   "metadata": {},
   "outputs": [],
   "source": []
  }
 ],
 "metadata": {
  "kernelspec": {
   "display_name": "Python 3 (ipykernel)",
   "language": "python",
   "name": "python3"
  },
  "language_info": {
   "codemirror_mode": {
    "name": "ipython",
    "version": 3
   },
   "file_extension": ".py",
   "mimetype": "text/x-python",
   "name": "python",
   "nbconvert_exporter": "python",
   "pygments_lexer": "ipython3",
   "version": "3.8.10"
  }
 },
 "nbformat": 4,
 "nbformat_minor": 5
}
