{
 "cells": [
  {
   "cell_type": "code",
   "execution_count": 1,
   "id": "0446e279-357c-4a65-8a52-6e4405940cfc",
   "metadata": {},
   "outputs": [],
   "source": [
    "##PythonBAsics"
   ]
  },
  {
   "cell_type": "code",
   "execution_count": 2,
   "id": "2bf6f54d-224a-4ec8-a847-cc55cd8b93b6",
   "metadata": {},
   "outputs": [
    {
     "name": "stdout",
     "output_type": "stream",
     "text": [
      "HELLO WORLD\n"
     ]
    }
   ],
   "source": [
    "print('HELLO WORLD');"
   ]
  },
  {
   "cell_type": "code",
   "execution_count": 8,
   "id": "e2063c33-caf1-46c2-86e7-2288bd368c17",
   "metadata": {},
   "outputs": [
    {
     "name": "stdout",
     "output_type": "stream",
     "text": [
      "30 IBM 30.01 30.00000000009287\n"
     ]
    }
   ],
   "source": [
    "a=30;\n",
    "b='IBM';\n",
    "c=30.010\n",
    "d=30.000000000092872635676787878553;\n",
    "# print(type(d));\n",
    "type(a) ;\n",
    "# print(type(b));\n",
    "print(a,b,c,d)"
   ]
  },
  {
   "cell_type": "code",
   "execution_count": 9,
   "id": "e4ffec7f-c3c7-4838-b60c-96ed74cc3b36",
   "metadata": {},
   "outputs": [
    {
     "data": {
      "text/plain": [
       "int"
      ]
     },
     "execution_count": 9,
     "metadata": {},
     "output_type": "execute_result"
    }
   ],
   "source": [
    "type(a)"
   ]
  },
  {
   "cell_type": "code",
   "execution_count": 12,
   "id": "649d80f1-2264-4b79-86ca-d651e372758b",
   "metadata": {},
   "outputs": [
    {
     "name": "stdout",
     "output_type": "stream",
     "text": [
      "30\n",
      "30\n",
      "30\n"
     ]
    }
   ],
   "source": [
    "a=b=c=30\n",
    "print(a)\n",
    "print(b)\n",
    "print(c)"
   ]
  },
  {
   "cell_type": "code",
   "execution_count": 13,
   "id": "3d492ad2-6fb4-444f-89fe-005774e47472",
   "metadata": {},
   "outputs": [
    {
     "name": "stdout",
     "output_type": "stream",
     "text": [
      "abc\n"
     ]
    },
    {
     "data": {
      "text/plain": [
       "'abc'"
      ]
     },
     "execution_count": 13,
     "metadata": {},
     "output_type": "execute_result"
    }
   ],
   "source": [
    "a='abc'\n",
    "print(a)\n",
    "a"
   ]
  },
  {
   "cell_type": "code",
   "execution_count": 15,
   "id": "9bbe689b-34c0-4fe0-a9d3-20a5c4a18f54",
   "metadata": {},
   "outputs": [
    {
     "data": {
      "text/plain": [
       "'IBM'"
      ]
     },
     "execution_count": 15,
     "metadata": {},
     "output_type": "execute_result"
    }
   ],
   "source": [
    "a,b,c=10,20.01,'IBM';\n",
    "c"
   ]
  },
  {
   "cell_type": "code",
   "execution_count": 16,
   "id": "b2b068fa-c0cc-4dcc-a180-4c7a003ff100",
   "metadata": {},
   "outputs": [
    {
     "name": "stdout",
     "output_type": "stream",
     "text": [
      "200.10000000000002\n"
     ]
    }
   ],
   "source": [
    "print(a*b)"
   ]
  },
  {
   "cell_type": "code",
   "execution_count": 17,
   "id": "61825a8a-fff8-48f9-8b6f-7120fda7267b",
   "metadata": {},
   "outputs": [],
   "source": [
    "str='aabcdd'"
   ]
  },
  {
   "cell_type": "code",
   "execution_count": 18,
   "id": "9a14d4aa-a1d7-41f6-87ee-e3898a51d5d7",
   "metadata": {},
   "outputs": [
    {
     "data": {
      "text/plain": [
       "'aabcdd'"
      ]
     },
     "execution_count": 18,
     "metadata": {},
     "output_type": "execute_result"
    }
   ],
   "source": [
    "str"
   ]
  },
  {
   "cell_type": "code",
   "execution_count": 19,
   "id": "7474cd7c-8cf5-4e8b-b59c-f1d3bda81f06",
   "metadata": {},
   "outputs": [
    {
     "data": {
      "text/plain": [
       "'qsqhgshqwhq\\nasdkashdmahsd\\nadhajshda\\n'"
      ]
     },
     "execution_count": 19,
     "metadata": {},
     "output_type": "execute_result"
    }
   ],
   "source": [
    "str='''qsqhgshqwhq\n",
    "asdkashdmahsd\n",
    "adhajshda\n",
    "'''\n",
    "str\n"
   ]
  },
  {
   "cell_type": "code",
   "execution_count": 20,
   "id": "b4c420b4-17a4-426b-8764-d732f69e26fa",
   "metadata": {},
   "outputs": [
    {
     "name": "stdout",
     "output_type": "stream",
     "text": [
      "qsqhgshqwhq\n",
      "asdkashdmahsd\n",
      "adhajshda\n",
      "\n"
     ]
    }
   ],
   "source": [
    "print(str)"
   ]
  },
  {
   "cell_type": "code",
   "execution_count": 21,
   "id": "61d01ae7-5c33-4f0f-a232-2092af2815a8",
   "metadata": {},
   "outputs": [
    {
     "data": {
      "text/plain": [
       "'q'"
      ]
     },
     "execution_count": 21,
     "metadata": {},
     "output_type": "execute_result"
    }
   ],
   "source": [
    "str[0]"
   ]
  },
  {
   "cell_type": "code",
   "execution_count": 23,
   "id": "16df59d8-444c-405e-80f9-0c7fbea64130",
   "metadata": {},
   "outputs": [
    {
     "name": "stdout",
     "output_type": "stream",
     "text": [
      "First, if you open System Settings, then go to Text Entry,\n",
      "then click the little keyboard\n",
      "icon on the left side of the screen,\n",
      "you’ll see a window that looks something like this: \n",
      "Firs\n"
     ]
    }
   ],
   "source": [
    "str='''First, if you open System Settings, then go to Text Entry,\n",
    "then click the little keyboard\n",
    "icon on the left side of the screen,\n",
    "you’ll see a window that looks something like this: '''\n",
    "\n",
    "print(str)\n",
    "print(str[:4])"
   ]
  },
  {
   "cell_type": "code",
   "execution_count": 24,
   "id": "02c7a485-7baa-447c-987c-b68f9700be09",
   "metadata": {},
   "outputs": [
    {
     "data": {
      "text/plain": [
       "179"
      ]
     },
     "execution_count": 24,
     "metadata": {},
     "output_type": "execute_result"
    }
   ],
   "source": [
    "len(str)"
   ]
  },
  {
   "cell_type": "code",
   "execution_count": 25,
   "id": "16a8de61-db9c-40e1-ac11-aaf9bbb9f84d",
   "metadata": {},
   "outputs": [
    {
     "data": {
      "text/plain": [
       "'ystem Settings, then'"
      ]
     },
     "execution_count": 25,
     "metadata": {},
     "output_type": "execute_result"
    }
   ],
   "source": [
    "str[20:40]"
   ]
  },
  {
   "cell_type": "code",
   "execution_count": 26,
   "id": "f96b7f49-9abc-48c7-b6b8-c96b19876194",
   "metadata": {},
   "outputs": [
    {
     "data": {
      "text/plain": [
       "'IBM BATCH'"
      ]
     },
     "execution_count": 26,
     "metadata": {},
     "output_type": "execute_result"
    }
   ],
   "source": [
    "str='IBM BATCH'\n",
    "str"
   ]
  },
  {
   "cell_type": "code",
   "execution_count": 29,
   "id": "ad1bfb96-5caf-475a-a659-5ddeb1622d8b",
   "metadata": {},
   "outputs": [
    {
     "data": {
      "text/plain": [
       "'BATCH'"
      ]
     },
     "execution_count": 29,
     "metadata": {},
     "output_type": "execute_result"
    }
   ],
   "source": [
    "str[-5:]\n"
   ]
  },
  {
   "cell_type": "code",
   "execution_count": 30,
   "id": "bf9ee123-e201-4623-9bd7-c31156d7335a",
   "metadata": {},
   "outputs": [
    {
     "data": {
      "text/plain": [
       "'IBM BATCH'"
      ]
     },
     "execution_count": 30,
     "metadata": {},
     "output_type": "execute_result"
    }
   ],
   "source": [
    "str.upper()"
   ]
  },
  {
   "cell_type": "code",
   "execution_count": 31,
   "id": "884fcb44-ed07-4763-a650-c235dab47cef",
   "metadata": {},
   "outputs": [
    {
     "data": {
      "text/plain": [
       "'ibm batch'"
      ]
     },
     "execution_count": 31,
     "metadata": {},
     "output_type": "execute_result"
    }
   ],
   "source": [
    "str.lower()"
   ]
  },
  {
   "cell_type": "code",
   "execution_count": 32,
   "id": "1941e018-28e0-4ab9-8f3c-9dc671eeb69a",
   "metadata": {},
   "outputs": [
    {
     "data": {
      "text/plain": [
       "'batch'"
      ]
     },
     "execution_count": 32,
     "metadata": {},
     "output_type": "execute_result"
    }
   ],
   "source": [
    "str[-5:].lower()"
   ]
  },
  {
   "cell_type": "raw",
   "id": "6701a5de-8b8c-4ed9-82a7-4ee4703ead43",
   "metadata": {},
   "source": [
    "str.remove('H')"
   ]
  },
  {
   "cell_type": "code",
   "execution_count": 34,
   "id": "c0d6a1ed-3d3a-4b3f-aae1-6fe7a08f2925",
   "metadata": {},
   "outputs": [
    {
     "data": {
      "text/plain": [
       "'IBM BATCH'"
      ]
     },
     "execution_count": 34,
     "metadata": {},
     "output_type": "execute_result"
    }
   ],
   "source": [
    "str ='   IBM BATCH'    "
   ]
  },
  {
   "cell_type": "code",
   "execution_count": 36,
   "id": "56cc0e2a-a1ec-4685-b3bc-1c2e32836486",
   "metadata": {},
   "outputs": [
    {
     "name": "stdout",
     "output_type": "stream",
     "text": [
      "IBM BATCH\n"
     ]
    }
   ],
   "source": [
    "print(str.strip())"
   ]
  },
  {
   "cell_type": "code",
   "execution_count": 40,
   "id": "80cd0018-0e74-4a3c-8579-399cc43f3e28",
   "metadata": {},
   "outputs": [
    {
     "name": "stdout",
     "output_type": "stream",
     "text": [
      "IBM1------------><--------IBM2\n"
     ]
    }
   ],
   "source": [
    "str1='IBM1------------><--------'\n",
    "str2='IBM2'\n",
    "print(str1+str2)"
   ]
  },
  {
   "cell_type": "code",
   "execution_count": 41,
   "id": "0e2eba4a-4971-416e-9415-a1a386351ce2",
   "metadata": {},
   "outputs": [
    {
     "data": {
      "text/plain": [
       "'IBM BATCH 2000'"
      ]
     },
     "execution_count": 41,
     "metadata": {},
     "output_type": "execute_result"
    }
   ],
   "source": [
    "n=2000\n",
    "str1='IBM BATCH {}'\n",
    "str1.format(n)"
   ]
  },
  {
   "cell_type": "code",
   "execution_count": 44,
   "id": "35c73df5-eb3d-4a86-9e3c-f49b2d7c1eb7",
   "metadata": {},
   "outputs": [
    {
     "data": {
      "text/plain": [
       "'My mark is 20'"
      ]
     },
     "execution_count": 44,
     "metadata": {},
     "output_type": "execute_result"
    }
   ],
   "source": [
    "a='My {1} is {0}'\n",
    "a.format(20,'mark')"
   ]
  },
  {
   "cell_type": "code",
   "execution_count": 45,
   "id": "50318e5b-f47f-40d0-b835-8e7ff1059834",
   "metadata": {},
   "outputs": [
    {
     "name": "stdout",
     "output_type": "stream",
     "text": [
      "no is 30\n"
     ]
    }
   ],
   "source": [
    "n=30\n",
    "if n==30:\n",
    "    print('no is 30');\n",
    "elif n==40:\n",
    "    print('no is 40');\n",
    "elif n==50:\n",
    "    print('no is 50');\n",
    "else:\n",
    "    print('no not 30,40,50');\n"
   ]
  },
  {
   "cell_type": "code",
   "execution_count": 47,
   "id": "de613d0c-7df3-4103-83da-9c3546f31178",
   "metadata": {},
   "outputs": [
    {
     "name": "stdout",
     "output_type": "stream",
     "text": [
      "1\n",
      "16\n",
      "49\n",
      "100\n",
      "169\n",
      "256\n",
      "361\n"
     ]
    }
   ],
   "source": [
    "for i in range(1,20,3):\n",
    "    print(i*i)"
   ]
  },
  {
   "cell_type": "code",
   "execution_count": 50,
   "id": "b2c1c6bf-5204-4164-8fab-8637b744a93d",
   "metadata": {},
   "outputs": [
    {
     "name": "stdout",
     "output_type": "stream",
     "text": [
      "IBM INDIA\n",
      "1\n",
      "2\n",
      "3\n",
      "4\n",
      "5\n",
      "6\n"
     ]
    }
   ],
   "source": [
    "s='IBM INDIA'\n",
    "for i in s:\n",
    "    print(i,end='')\n",
    "print()\n",
    "l=[1,2,3,4,5,6]\n",
    "for i in  l:\n",
    "    print(i)\n",
    "    "
   ]
  },
  {
   "cell_type": "code",
   "execution_count": 56,
   "id": "81c4ae6d-8294-41d2-9d94-4738329ffd23",
   "metadata": {},
   "outputs": [],
   "source": [
    "for i in range(20,0,-2):\n",
    "    if i==14:\n",
    "        continue\n",
    "    if i==10:\n",
    "        break\n",
    "    print(i)"
   ]
  },
  {
   "cell_type": "code",
   "execution_count": 59,
   "id": "02a90915-11ba-4c72-a1a0-ff77afad856c",
   "metadata": {},
   "outputs": [
    {
     "name": "stdout",
     "output_type": "stream",
     "text": [
      "EVEN NUMBER\n",
      "ODD NUMBER\n"
     ]
    }
   ],
   "source": [
    "def fun(a):\n",
    "    if a%2!=0:\n",
    "        print('ODD NUMBER');\n",
    "    else:\n",
    "        print('EVEN NUMBER');\n",
    "fun(20)\n",
    "fun(21)\n"
   ]
  },
  {
   "cell_type": "code",
   "execution_count": 64,
   "id": "1dbc5f0f-ec82-4c7b-9a76-57fcd0116d00",
   "metadata": {},
   "outputs": [
    {
     "name": "stdout",
     "output_type": "stream",
     "text": [
      "230\n",
      "170\n",
      "6000\n",
      "6.666666666666667\n",
      "Invalid Input\n",
      "20\n",
      "invalid operand\n"
     ]
    }
   ],
   "source": [
    "def cal(n1,n2,c):\n",
    "    if c=='+':\n",
    "        print(n1+n2)\n",
    "    elif c=='-':\n",
    "        print(n1-n2)\n",
    "    elif c=='*':\n",
    "        print(n1*n2)\n",
    "    elif c=='/':\n",
    "        if n2!=0:\n",
    "            print(n1/n2)\n",
    "        else:\n",
    "            print('Invalid Input')\n",
    "    elif c=='%':\n",
    "        print(n1%n2)\n",
    "    else:\n",
    "        print('invalid operand')\n",
    "\n",
    "        \n",
    "cal(200,30,'+')\n",
    "cal(200,30,'-')\n",
    "cal(200,30,'*')\n",
    "cal(200,30,'/')\n",
    "cal(200,0,'/')\n",
    "cal(200,30,'%')\n",
    "cal(200,30,'d')"
   ]
  },
  {
   "cell_type": "code",
   "execution_count": 3,
   "id": "3703db18-09e9-42ab-be34-8469b11e6cdb",
   "metadata": {},
   "outputs": [
    {
     "data": {
      "text/plain": [
       "list"
      ]
     },
     "execution_count": 3,
     "metadata": {},
     "output_type": "execute_result"
    }
   ],
   "source": [
    "list1=[1,2,3,4,5,6,4.567,'ab','cd','orange']\n",
    "\n",
    "type(list1)"
   ]
  },
  {
   "cell_type": "code",
   "execution_count": 4,
   "id": "658a7299-634d-465d-b2dd-92a13e15f7a0",
   "metadata": {},
   "outputs": [
    {
     "name": "stdout",
     "output_type": "stream",
     "text": [
      "1\n",
      "2\n",
      "3\n",
      "4\n",
      "5\n",
      "6\n",
      "4.567\n",
      "ab\n",
      "cd\n",
      "orange\n"
     ]
    }
   ],
   "source": [
    "for i in list1:\n",
    "    print(i)"
   ]
  },
  {
   "cell_type": "code",
   "execution_count": 69,
   "id": "e5230bf0-168c-4948-b268-c07fed81b257",
   "metadata": {},
   "outputs": [
    {
     "data": {
      "text/plain": [
       "10"
      ]
     },
     "execution_count": 69,
     "metadata": {},
     "output_type": "execute_result"
    }
   ],
   "source": [
    "len(list1)"
   ]
  },
  {
   "cell_type": "code",
   "execution_count": 5,
   "id": "9fe4fc33-09c5-4fe5-801f-e2208b84a15c",
   "metadata": {},
   "outputs": [
    {
     "name": "stdout",
     "output_type": "stream",
     "text": [
      "[3, 4, 5, 6, 4.567, 'ab', 'cd', 'orange']\n"
     ]
    }
   ],
   "source": [
    "print(list1[2:])"
   ]
  },
  {
   "cell_type": "code",
   "execution_count": 6,
   "id": "59b792f8-fe21-4376-a7b8-c8d02c10266a",
   "metadata": {},
   "outputs": [
    {
     "name": "stdout",
     "output_type": "stream",
     "text": [
      "[5, 6, 4.567, 'ab', 'cd', 'orange']\n"
     ]
    }
   ],
   "source": [
    "l2=list1[4:]\n",
    "print(l2)"
   ]
  },
  {
   "cell_type": "code",
   "execution_count": 7,
   "id": "29036a2e-d30c-47e0-ac49-ed504e0d41da",
   "metadata": {},
   "outputs": [
    {
     "name": "stdout",
     "output_type": "stream",
     "text": [
      "[5, 6]\n"
     ]
    }
   ],
   "source": [
    "l3=list()\n",
    "for i in l2:\n",
    "    if type(i)==int:\n",
    "        l3.append(i)\n",
    "print(l3)"
   ]
  },
  {
   "cell_type": "code",
   "execution_count": 16,
   "id": "fc2b8b80-264e-45bc-b118-d5e05c244866",
   "metadata": {},
   "outputs": [
    {
     "name": "stdout",
     "output_type": "stream",
     "text": [
      "['ab', 'cd', 'orange']\n"
     ]
    }
   ],
   "source": [
    "l4=[i for i in l2 if type(i)==str]\n",
    "print(l4)"
   ]
  },
  {
   "cell_type": "code",
   "execution_count": 17,
   "id": "7c8168a7-e98d-4f0c-8141-34dff4feb6ea",
   "metadata": {},
   "outputs": [
    {
     "data": {
      "text/plain": [
       "tuple"
      ]
     },
     "execution_count": 17,
     "metadata": {},
     "output_type": "execute_result"
    }
   ],
   "source": [
    "t=(1,'IBM',2.3)\n",
    "type(t)\n"
   ]
  },
  {
   "cell_type": "code",
   "execution_count": 18,
   "id": "4360ae24-8c63-4bcf-bdf3-9dd6f60e431f",
   "metadata": {},
   "outputs": [
    {
     "name": "stdout",
     "output_type": "stream",
     "text": [
      "1\n",
      "IBM\n",
      "2.3\n"
     ]
    }
   ],
   "source": [
    "for i in t:\n",
    "    print(i)"
   ]
  },
  {
   "cell_type": "code",
   "execution_count": 19,
   "id": "7681e36f-e70d-4573-bd90-dcf13d51fb3f",
   "metadata": {},
   "outputs": [
    {
     "data": {
      "text/plain": [
       "(1, 'IBM', 2.3)"
      ]
     },
     "execution_count": 19,
     "metadata": {},
     "output_type": "execute_result"
    }
   ],
   "source": [
    "t2=t\n",
    "t2"
   ]
  },
  {
   "cell_type": "code",
   "execution_count": 24,
   "id": "a5bb8db0-20d0-4751-8cf6-17d9d574b724",
   "metadata": {},
   "outputs": [
    {
     "data": {
      "text/plain": [
       "2"
      ]
     },
     "execution_count": 24,
     "metadata": {},
     "output_type": "execute_result"
    }
   ],
   "source": [
    "t.index(2.3)\n",
    " "
   ]
  },
  {
   "cell_type": "code",
   "execution_count": 26,
   "id": "d790d866-35a4-44f9-85f1-77d6cd20f574",
   "metadata": {},
   "outputs": [
    {
     "data": {
      "text/plain": [
       "(1, 2, 3, 'IBM', 'Python')"
      ]
     },
     "execution_count": 26,
     "metadata": {},
     "output_type": "execute_result"
    }
   ],
   "source": [
    "t2=(1,2,3,'IBM','Python')\n",
    "t=t2\n",
    "t"
   ]
  },
  {
   "cell_type": "code",
   "execution_count": 27,
   "id": "1ff54fd8-a594-4818-b33d-87484bfeeded",
   "metadata": {},
   "outputs": [
    {
     "data": {
      "text/plain": [
       "[1, 2, 3, 'IBM', 'Python']"
      ]
     },
     "execution_count": 27,
     "metadata": {},
     "output_type": "execute_result"
    }
   ],
   "source": [
    "l1=list(t)\n",
    "l1"
   ]
  },
  {
   "cell_type": "code",
   "execution_count": 30,
   "id": "f2c85d57-2c18-4990-8665-946fe8a957d1",
   "metadata": {},
   "outputs": [],
   "source": [
    "t=(1,2,3,4)\n",
    "del t\n",
    " \n",
    "    "
   ]
  },
  {
   "cell_type": "code",
   "execution_count": 31,
   "id": "771c1f6c-9578-46af-8437-c385e6c7e6c9",
   "metadata": {},
   "outputs": [
    {
     "name": "stdout",
     "output_type": "stream",
     "text": [
      "1\n",
      "2\n",
      "3\n",
      "IBM\n",
      "Python\n"
     ]
    }
   ],
   "source": [
    "for i in t2:\n",
    "    print(i)"
   ]
  },
  {
   "cell_type": "code",
   "execution_count": 32,
   "id": "6a33fa07-5927-418a-bd64-91b9f9592a97",
   "metadata": {},
   "outputs": [
    {
     "data": {
      "text/plain": [
       "1"
      ]
     },
     "execution_count": 32,
     "metadata": {},
     "output_type": "execute_result"
    }
   ],
   "source": [
    "t2.count(3)"
   ]
  },
  {
   "cell_type": "code",
   "execution_count": 34,
   "id": "48fa9741-0aa6-4ca3-80f1-9536fc91a21e",
   "metadata": {},
   "outputs": [],
   "source": [
    "###sets\n"
   ]
  },
  {
   "cell_type": "code",
   "execution_count": 36,
   "id": "0972cfb2-ebde-4223-82ae-c8ca42664c7b",
   "metadata": {},
   "outputs": [
    {
     "name": "stdout",
     "output_type": "stream",
     "text": [
      "{1, 2, 3, 4}\n"
     ]
    }
   ],
   "source": [
    " \n",
    "l=[1,2,2,3,3,3,4,4,4,4,4,4,4,4]\n",
    "\n",
    "set1=set(l)\n",
    "print(set1)"
   ]
  },
  {
   "cell_type": "code",
   "execution_count": 37,
   "id": "8b8f53c8-e6b6-4a29-afdd-415b2b1e1a57",
   "metadata": {},
   "outputs": [
    {
     "data": {
      "text/plain": [
       "4"
      ]
     },
     "execution_count": 37,
     "metadata": {},
     "output_type": "execute_result"
    }
   ],
   "source": [
    "len(set1)"
   ]
  },
  {
   "cell_type": "code",
   "execution_count": 46,
   "id": "e3795341-72cf-4dd1-adc4-30a5ffafbb74",
   "metadata": {},
   "outputs": [
    {
     "name": "stdout",
     "output_type": "stream",
     "text": [
      "{1, 2, 3, 4, 10}\n",
      "{1, 2, 3, 4, 10}\n",
      "{10}\n"
     ]
    }
   ],
   "source": [
    "set1.add(10)\n",
    "print(set1)\n",
    "set2=set()\n",
    "set2=set1.copy()\n",
    "print(set2)\n",
    "s={1,2,3,4,5,55,}\n",
    "print(set2.difference(s))\n",
    " "
   ]
  },
  {
   "cell_type": "code",
   "execution_count": 47,
   "id": "3939925e-0262-4631-9ae7-cee208f5921c",
   "metadata": {},
   "outputs": [
    {
     "name": "stdout",
     "output_type": "stream",
     "text": [
      "None\n"
     ]
    }
   ],
   "source": [
    "print(set2.difference_update(s))"
   ]
  },
  {
   "cell_type": "code",
   "execution_count": 48,
   "id": "b863b2e4-b805-45bc-a3fa-79242aa5a649",
   "metadata": {},
   "outputs": [
    {
     "data": {
      "text/plain": [
       "{1, 2, 3, 4}"
      ]
     },
     "execution_count": 48,
     "metadata": {},
     "output_type": "execute_result"
    }
   ],
   "source": [
    "set1.discard(10)\n",
    "set1"
   ]
  },
  {
   "cell_type": "code",
   "execution_count": 52,
   "id": "ccee40d6-d5da-48f7-b531-6f55ec881079",
   "metadata": {},
   "outputs": [
    {
     "name": "stdout",
     "output_type": "stream",
     "text": [
      "{1, 2, 3, 4}\n"
     ]
    }
   ],
   "source": [
    "print(s.intersection(set1))"
   ]
  },
  {
   "cell_type": "code",
   "execution_count": 53,
   "id": "5890c2a4-d039-4fbf-993c-0a6239c45a2d",
   "metadata": {},
   "outputs": [
    {
     "data": {
      "text/plain": [
       "False"
      ]
     },
     "execution_count": 53,
     "metadata": {},
     "output_type": "execute_result"
    }
   ],
   "source": [
    "s.isdisjoint(set1)"
   ]
  },
  {
   "cell_type": "code",
   "execution_count": 55,
   "id": "34df2673-d13e-4e1f-aa1e-0e1dee72a7e6",
   "metadata": {},
   "outputs": [
    {
     "data": {
      "text/plain": [
       "True"
      ]
     },
     "execution_count": 55,
     "metadata": {},
     "output_type": "execute_result"
    }
   ],
   "source": [
    "s2={1,2,3,4,5,55,6,7,89,10}\n",
    "s.issubset(s2)"
   ]
  },
  {
   "cell_type": "code",
   "execution_count": 56,
   "id": "451cac6c-a3cf-46dd-ba0f-767e2c64a44d",
   "metadata": {},
   "outputs": [
    {
     "data": {
      "text/plain": [
       "True"
      ]
     },
     "execution_count": 56,
     "metadata": {},
     "output_type": "execute_result"
    }
   ],
   "source": [
    "s2.issuperset(s)"
   ]
  },
  {
   "cell_type": "code",
   "execution_count": 58,
   "id": "6204119c-dfbf-4f3f-8140-943b4eb43e10",
   "metadata": {},
   "outputs": [
    {
     "data": {
      "text/plain": [
       "{2, 3, 4, 5, 55}"
      ]
     },
     "execution_count": 58,
     "metadata": {},
     "output_type": "execute_result"
    }
   ],
   "source": [
    "s.pop()\n",
    "s"
   ]
  },
  {
   "cell_type": "code",
   "execution_count": 59,
   "id": "2696ebd8-3621-44a3-be98-395ec51ffc4e",
   "metadata": {},
   "outputs": [
    {
     "data": {
      "text/plain": [
       "{2, 3, 4, 5}"
      ]
     },
     "execution_count": 59,
     "metadata": {},
     "output_type": "execute_result"
    }
   ],
   "source": [
    "s.remove(55)\n",
    "s"
   ]
  },
  {
   "cell_type": "code",
   "execution_count": 60,
   "id": "791b12f4-b45d-4481-b0a0-c21e5aa044d9",
   "metadata": {},
   "outputs": [
    {
     "data": {
      "text/plain": [
       "{2, 3, 4, 5}"
      ]
     },
     "execution_count": 60,
     "metadata": {},
     "output_type": "execute_result"
    }
   ],
   "source": [
    "s.union(s2)\n",
    "s"
   ]
  },
  {
   "cell_type": "code",
   "execution_count": 61,
   "id": "663b2c9e-2cb5-425e-8269-7186585a68af",
   "metadata": {},
   "outputs": [
    {
     "data": {
      "text/plain": [
       "{1, 2, 3, 4, 5, 6, 7, 10, 55, 89}"
      ]
     },
     "execution_count": 61,
     "metadata": {},
     "output_type": "execute_result"
    }
   ],
   "source": [
    "s2.union(s)\n",
    "s2"
   ]
  },
  {
   "cell_type": "code",
   "execution_count": 68,
   "id": "26e864f6-5a7a-410a-afa5-2be7623c8625",
   "metadata": {
    "tags": []
   },
   "outputs": [
    {
     "data": {
      "text/plain": []
     },
     "metadata": {},
     "output_type": "display_data"
    }
   ],
   "source": [
    "## **DICtIONARy**"
   ]
  },
  {
   "cell_type": "code",
   "execution_count": 69,
   "id": "5f3160ef-4cdc-4cdc-b9ef-34d8e8f5f751",
   "metadata": {},
   "outputs": [
    {
     "name": "stdout",
     "output_type": "stream",
     "text": [
      "{'comp': 'IBM', 'batch': 'Python', 'type': 'Fresher'}\n"
     ]
    }
   ],
   "source": [
    "d={'comp':'IBM','batch':'Python','type':'Fresher'}\n",
    "print(d)"
   ]
  },
  {
   "cell_type": "code",
   "execution_count": 70,
   "id": "a0dd7689-3951-4749-aa75-8ad6f6e277c9",
   "metadata": {},
   "outputs": [
    {
     "data": {
      "text/plain": [
       "'Fresher'"
      ]
     },
     "execution_count": 70,
     "metadata": {},
     "output_type": "execute_result"
    }
   ],
   "source": [
    "d['type']\n"
   ]
  },
  {
   "cell_type": "code",
   "execution_count": 71,
   "id": "88e695a0-93fa-45df-95ab-ae6e9586044b",
   "metadata": {},
   "outputs": [
    {
     "name": "stdout",
     "output_type": "stream",
     "text": [
      "{'comp': 'IBM', 'batch': 'Python', 'type': 'expereniced'}\n"
     ]
    }
   ],
   "source": [
    "d1={'comp':'IBM','batch':'Python','type':'Fresher','type':'expereniced'} \n",
    "print(d1)"
   ]
  },
  {
   "cell_type": "code",
   "execution_count": 73,
   "id": "6b92f6f5-412e-41bd-8856-dd1fb7b5e15b",
   "metadata": {},
   "outputs": [
    {
     "data": {
      "text/plain": [
       "3"
      ]
     },
     "execution_count": 73,
     "metadata": {},
     "output_type": "execute_result"
    }
   ],
   "source": [
    "len(d)"
   ]
  },
  {
   "cell_type": "code",
   "execution_count": 74,
   "id": "079c875e-0d1e-4400-86b2-e22d90561b7d",
   "metadata": {},
   "outputs": [
    {
     "data": {
      "text/plain": [
       "'Python'"
      ]
     },
     "execution_count": 74,
     "metadata": {},
     "output_type": "execute_result"
    }
   ],
   "source": [
    "d.get('batch')"
   ]
  },
  {
   "cell_type": "code",
   "execution_count": 75,
   "id": "b58ed643-4584-4749-a7cc-d89f5a3e8b58",
   "metadata": {},
   "outputs": [
    {
     "data": {
      "text/plain": [
       "dict_keys(['comp', 'batch', 'type'])"
      ]
     },
     "execution_count": 75,
     "metadata": {},
     "output_type": "execute_result"
    }
   ],
   "source": [
    "d.keys()"
   ]
  },
  {
   "cell_type": "code",
   "execution_count": 76,
   "id": "b427c13e-9cd7-4416-9365-abc65880c6f3",
   "metadata": {},
   "outputs": [
    {
     "data": {
      "text/plain": [
       "dict_items([('comp', 'IBM'), ('batch', 'Python'), ('type', 'Fresher')])"
      ]
     },
     "execution_count": 76,
     "metadata": {},
     "output_type": "execute_result"
    }
   ],
   "source": [
    "d.items()\n"
   ]
  },
  {
   "cell_type": "code",
   "execution_count": 80,
   "id": "1817b3f6-d4b2-4205-af2a-69272acebbb5",
   "metadata": {},
   "outputs": [],
   "source": [
    "d.update({'year':2022})"
   ]
  },
  {
   "cell_type": "code",
   "execution_count": 81,
   "id": "6f867b82-2087-42f6-9059-d24019e780e8",
   "metadata": {},
   "outputs": [
    {
     "data": {
      "text/plain": [
       "{'comp': 'IBM', 'batch': 'Python', 'type': 'Fresher', 'year': 2022}"
      ]
     },
     "execution_count": 81,
     "metadata": {},
     "output_type": "execute_result"
    }
   ],
   "source": [
    "d"
   ]
  },
  {
   "cell_type": "code",
   "execution_count": 83,
   "id": "2aa7f380-99ac-4baf-899c-60fe1da4a545",
   "metadata": {},
   "outputs": [],
   "source": [
    "d.get('vg')"
   ]
  },
  {
   "cell_type": "code",
   "execution_count": 86,
   "id": "c093ab0e-7ced-489d-9412-b3ce192f778e",
   "metadata": {},
   "outputs": [
    {
     "name": "stdout",
     "output_type": "stream",
     "text": [
      "True\n"
     ]
    }
   ],
   "source": [
    "print('type' in d.keys())"
   ]
  },
  {
   "cell_type": "code",
   "execution_count": 87,
   "id": "baedfb69-41d7-4788-a736-6667f63bb29b",
   "metadata": {},
   "outputs": [
    {
     "data": {
      "text/plain": [
       "dict_values(['IBM', 'Python', 'Fresher', 2022])"
      ]
     },
     "execution_count": 87,
     "metadata": {},
     "output_type": "execute_result"
    }
   ],
   "source": [
    "d.values()"
   ]
  },
  {
   "cell_type": "code",
   "execution_count": 89,
   "id": "c2084c22-6c1d-4667-89e2-c712fed107dd",
   "metadata": {},
   "outputs": [
    {
     "data": {
      "text/plain": [
       "{'c': None, 'o': None, 'm': None, 'p': None}"
      ]
     },
     "execution_count": 89,
     "metadata": {},
     "output_type": "execute_result"
    }
   ],
   "source": [
    "d.fromkeys('comp')"
   ]
  },
  {
   "cell_type": "code",
   "execution_count": 92,
   "id": "681d360c-32da-448c-9423-f7d5e732d7f3",
   "metadata": {},
   "outputs": [
    {
     "name": "stdout",
     "output_type": "stream",
     "text": [
      "comp ---> IBM\n",
      "batch ---> Python\n",
      "type ---> Fresher\n",
      "year ---> 2022\n"
     ]
    }
   ],
   "source": [
    "for i in d:\n",
    "    print(i,'--->',d[i])"
   ]
  },
  {
   "cell_type": "code",
   "execution_count": 93,
   "id": "1b0e145a-e2dc-45b5-bbdb-8fac7ce9cd0d",
   "metadata": {},
   "outputs": [
    {
     "data": {
      "text/plain": [
       "{'comp': 'IBM', 'batch': 'Python', 'type': 'Fresher', 'year': 2022}"
      ]
     },
     "execution_count": 93,
     "metadata": {},
     "output_type": "execute_result"
    }
   ],
   "source": [
    "d2=d.copy()\n",
    "d2"
   ]
  },
  {
   "cell_type": "code",
   "execution_count": 95,
   "id": "361498f4-cf34-4618-97d2-0d9050714927",
   "metadata": {},
   "outputs": [
    {
     "data": {
      "text/plain": [
       "{'EMP1': {'NAME': 'ibm', 'YEAR': 2022}, 'EMP2': {'NAME': 'BNY', 'YEAR': 2020}}"
      ]
     },
     "execution_count": 95,
     "metadata": {},
     "output_type": "execute_result"
    }
   ],
   "source": [
    "d3={'EMP1':{'NAME':'ibm','YEAR':2022},'EMP2':{'NAME':'BNY','YEAR':2020}}\n",
    "d3"
   ]
  },
  {
   "cell_type": "code",
   "execution_count": 98,
   "id": "5e18ffe7-bcae-4eb9-8278-c31c551e2395",
   "metadata": {},
   "outputs": [
    {
     "data": {
      "text/plain": [
       "{'E': None, 'M': None, 'P': None, '1': None}"
      ]
     },
     "execution_count": 98,
     "metadata": {},
     "output_type": "execute_result"
    }
   ],
   "source": [
    "d3.fromkeys('EMP1')"
   ]
  },
  {
   "cell_type": "code",
   "execution_count": 100,
   "id": "a2f7b639-5170-4bca-a1ca-1a377f0ac0ca",
   "metadata": {},
   "outputs": [
    {
     "data": {
      "text/plain": [
       "'ibm'"
      ]
     },
     "execution_count": 100,
     "metadata": {},
     "output_type": "execute_result"
    }
   ],
   "source": [
    "d3['EMP1']['NAME']"
   ]
  },
  {
   "cell_type": "code",
   "execution_count": 101,
   "id": "39c49bec-4c1f-4ba3-b144-4e54c04f33ad",
   "metadata": {},
   "outputs": [],
   "source": [
    "##LAMBDA"
   ]
  },
  {
   "cell_type": "code",
   "execution_count": 103,
   "id": "9abf8bfa-5918-41ab-ab17-880cbc1f27d7",
   "metadata": {},
   "outputs": [
    {
     "name": "stdout",
     "output_type": "stream",
     "text": [
      "100\n"
     ]
    }
   ],
   "source": [
    " \n",
    "x= lambda a : a*a\n",
    "print(x(10))"
   ]
  },
  {
   "cell_type": "code",
   "execution_count": 108,
   "id": "d4896f2f-34b6-4594-ab7f-faddc5c0fcba",
   "metadata": {},
   "outputs": [
    {
     "name": "stdout",
     "output_type": "stream",
     "text": [
      "even\n",
      "odd\n",
      "even\n",
      "odd\n",
      "even\n",
      "odd\n",
      "even\n",
      "odd\n",
      "even\n",
      "odd\n"
     ]
    }
   ],
   "source": [
    "y=lambda a:(a%2==0)\n",
    "for i in range(10):\n",
    "    if y(i)==True:\n",
    "        print('even')\n",
    "    else:\n",
    "        print('odd')"
   ]
  },
  {
   "cell_type": "code",
   "execution_count": null,
   "id": "526c1020-69be-4511-ac4a-296f0b97dbe0",
   "metadata": {},
   "outputs": [],
   "source": []
  }
 ],
 "metadata": {
  "kernelspec": {
   "display_name": "Python 3 (ipykernel)",
   "language": "python",
   "name": "python3"
  },
  "language_info": {
   "codemirror_mode": {
    "name": "ipython",
    "version": 3
   },
   "file_extension": ".py",
   "mimetype": "text/x-python",
   "name": "python",
   "nbconvert_exporter": "python",
   "pygments_lexer": "ipython3",
   "version": "3.8.10"
  }
 },
 "nbformat": 4,
 "nbformat_minor": 5
}
